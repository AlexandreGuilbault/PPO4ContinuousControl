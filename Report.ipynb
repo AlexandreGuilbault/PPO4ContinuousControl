{
 "cells": [
  {
   "cell_type": "markdown",
   "metadata": {},
   "source": [
    "# Continuous Control with PPO\n",
    "\n",
    "---\n",
    "\n",
    "This notebook will present a flexible and simple implementation of the PPO reinforcement learning algorithm to solve the Reacher environment provided by [Unity Technologies ML Agents](https://github.com/Unity-Technologies/ml-agents/blob/master/docs/Learning-Environment-Examples.md#reacher).\n",
    "\n",
    "Part of the code has been inspired and tested against the PPO implementation from [Ilya Kostrikov](https://github.com/ikostrikov/pytorch-a2c-ppo-acktr-gail/tree/master/a2c_ppo_acktr)."
   ]
  },
  {
   "cell_type": "markdown",
   "metadata": {},
   "source": [
    "### 1. Required Libraries\n",
    "\n",
    "The following libraries and dependencies are used:\n",
    "\n",
    "1. [Python 3.6](https://www.python.org/downloads/)\n",
    "2. [Unity ML-Agents](https://github.com/Unity-Technologies/ml-agents/blob/master/docs/Installation.md)\n",
    "3. [NumPy](http://www.numpy.org/)\n",
    "4. [Pytorch 1.3](https://pytorch.org/)\n",
    "\n",
    "And the following files has been defined:\n",
    "\n",
    "1. agent.py : Contains the implementation of Random and PPO agents.\n",
    "2. coach.py : Contains a function to run the environment with a specified agent and define the structure to learn from the environment."
   ]
  },
  {
   "cell_type": "code",
   "execution_count": 1,
   "metadata": {},
   "outputs": [],
   "source": [
    "from unityagents import UnityEnvironment\n",
    "\n",
    "import numpy as np\n",
    "import matplotlib.pyplot as plt\n",
    "\n",
    "from agent import RandomAgent, PPOAgent\n",
    "from coach import Coach"
   ]
  },
  {
   "cell_type": "markdown",
   "metadata": {},
   "source": [
    "### 2. The environment\n",
    "\n",
    "Double-jointed arms move in the environment towards targets represented by spheres. The goal is to maximize the time the agent \"hand\" is in the sphere. A rewards of +0.1 is then gained for each of those steps.\n",
    "\n",
    "The environment is considered solved when the average score of all agents reaches an average of 30.0 over the last 100 episodes.\n",
    "\n",
    "The Reacher environment can be downloaded here:\n",
    "\n",
    "- [Linux](https://s3-us-west-1.amazonaws.com/udacity-drlnd/P2/Reacher/Reacher_Linux.zip)\n",
    "- [Mac OSX](https://s3-us-west-1.amazonaws.com/udacity-drlnd/P2/Reacher/Reacher.app.zip)\n",
    "- [Windows (32-bit)](https://s3-us-west-1.amazonaws.com/udacity-drlnd/P2/Reacher/Reacher_Windows_x86.zip)\n",
    "- [Windows (64-bit)](https://s3-us-west-1.amazonaws.com/udacity-drlnd/P2/Reacher/Reacher_Windows_x86_64.zip)\n",
    "\n",
    "Before running the notebook ensure you have updated the path to the <i>Reacher.app</i> file below."
   ]
  },
  {
   "cell_type": "code",
   "execution_count": 2,
   "metadata": {},
   "outputs": [],
   "source": [
    "environment_directory='./Multiple_Reacher_Windows_x86_64/Reacher.app'"
   ]
  },
  {
   "cell_type": "code",
   "execution_count": 3,
   "metadata": {},
   "outputs": [
    {
     "name": "stderr",
     "output_type": "stream",
     "text": [
      "INFO:unityagents:\n",
      "'Academy' started successfully!\n",
      "Unity Academy name: Academy\n",
      "        Number of Brains: 1\n",
      "        Number of External Brains : 1\n",
      "        Lesson number : 0\n",
      "        Reset Parameters :\n",
      "\t\tgoal_speed -> 1.0\n",
      "\t\tgoal_size -> 5.0\n",
      "Unity brain name: ReacherBrain\n",
      "        Number of Visual Observations (per agent): 0\n",
      "        Vector Observation space type: continuous\n",
      "        Vector Observation space size (per agent): 33\n",
      "        Number of stacked Vector Observation: 1\n",
      "        Vector Action space type: continuous\n",
      "        Vector Action space size (per agent): 4\n",
      "        Vector Action descriptions: , , , \n"
     ]
    }
   ],
   "source": [
    "env = UnityEnvironment(file_name=environment_directory)\n",
    "brain_name = env.brain_names[0]\n",
    "brain = env.brains[brain_name]"
   ]
  },
  {
   "cell_type": "markdown",
   "metadata": {},
   "source": [
    "Environment settings"
   ]
  },
  {
   "cell_type": "code",
   "execution_count": 4,
   "metadata": {},
   "outputs": [
    {
     "name": "stdout",
     "output_type": "stream",
     "text": [
      "Number of agents: 20\n",
      "Action space: 4\n",
      "State space: (20, 33)\n"
     ]
    }
   ],
   "source": [
    "env_info = env.reset(train_mode=True)[brain_name]\n",
    "\n",
    "num_agents = len(env_info.agents)\n",
    "action_space = brain.vector_action_space_size\n",
    "observation_space = env_info.vector_observations.shape\n",
    "\n",
    "print('Number of agents:', num_agents)\n",
    "print('Action space:', action_space)\n",
    "print('State space: {}'.format(observation_space))"
   ]
  },
  {
   "cell_type": "markdown",
   "metadata": {},
   "source": [
    "### 3. Settings and Parameters\n",
    "\n",
    "The following settings and parameters have been used to train the PPO agent."
   ]
  },
  {
   "cell_type": "code",
   "execution_count": 5,
   "metadata": {},
   "outputs": [],
   "source": [
    "num_episodes = 1000\n",
    "\n",
    "learn_epoch = 4\n",
    "batch_size = 512\n",
    "\n",
    "gamma = 0.99\n",
    "value_coef = 0.5\n",
    "entropy_coef = 0.01\n",
    "\n",
    "learning_rate = 3e-4\n",
    "eps = 1e-5\n",
    "\n",
    "clip = 0.2\n",
    "max_grad = 0.2\n",
    "\n",
    "save_interval = 100\n",
    "log_interval = 100\n",
    "\n",
    "save_directory = 'Checkpoint/'"
   ]
  },
  {
   "cell_type": "markdown",
   "metadata": {},
   "source": [
    "### 4. Defining the Coach\n",
    "\n",
    "The Coach will be responsible of running the agent and supervising its training."
   ]
  },
  {
   "cell_type": "code",
   "execution_count": 6,
   "metadata": {},
   "outputs": [],
   "source": [
    "coach = Coach(env=env,\n",
    "              brain_name=brain_name,\n",
    "              save_directory=save_directory\n",
    "             )"
   ]
  },
  {
   "cell_type": "markdown",
   "metadata": {},
   "source": [
    "We will run a random agent in the environment in order to better understand the environment and set the maximum steps limit."
   ]
  },
  {
   "cell_type": "code",
   "execution_count": 7,
   "metadata": {},
   "outputs": [],
   "source": [
    "random_agent = RandomAgent(observation_space=observation_space[1], \n",
    "                           action_space=action_space,\n",
    "                           n_actors=num_agents)"
   ]
  },
  {
   "cell_type": "code",
   "execution_count": 8,
   "metadata": {},
   "outputs": [
    {
     "name": "stdout",
     "output_type": "stream",
     "text": [
      "Total score (averaged over agents) for this episode: 0.086\n",
      "Total steps of an episode : 1001\n"
     ]
    }
   ],
   "source": [
    "total_steps, score = coach.watch(random_agent)\n",
    "\n",
    "print('Total score (averaged over agents) for this episode: {:.3f}'.format(score))\n",
    "print('Total steps of an episode : {}'.format(total_steps))     "
   ]
  },
  {
   "cell_type": "markdown",
   "metadata": {},
   "source": [
    "### 5. Create and train PPO Actor-Critic Agent\n",
    "\n",
    "We then created the PPO Agent and passed it to the Coach for training.\n",
    "\n",
    "The model of the agent will consist of a double-headed Actor-Critic trained by the [Proximal Policy Optimization](https://arxiv.org/abs/1707.06347) algorithm:\n",
    "\n",
    "---\n",
    "\n",
    "<div style=\"text-align:center\"><img src=\"img/actor_critic_model.png\" width=\"500\"/></div>\n",
    "\n",
    "---"
   ]
  },
  {
   "cell_type": "code",
   "execution_count": 9,
   "metadata": {
    "scrolled": false
   },
   "outputs": [],
   "source": [
    "agent = PPOAgent(observation_space=observation_space[1], \n",
    "                 action_space=action_space,\n",
    "                 n_actors=num_agents,\n",
    "                 memory_size=total_steps,\n",
    "                 lr=learning_rate,\n",
    "                 eps=eps,\n",
    "                 batch_size=batch_size,\n",
    "                 epoch=learn_epoch,\n",
    "                 gamma=gamma,\n",
    "                 clip=clip,\n",
    "                 max_grad=max_grad,\n",
    "                 value_coef=value_coef,\n",
    "                 entropy_coef=entropy_coef,\n",
    "                 seed=0)"
   ]
  },
  {
   "cell_type": "code",
   "execution_count": 10,
   "metadata": {
    "scrolled": false
   },
   "outputs": [
    {
     "name": "stdout",
     "output_type": "stream",
     "text": [
      "Steps: 100100 | Episode:  100/1000 | Cum.Avg.Reward: 1.486 | Epis.Avg.Reward: 3.085 | Elaps.Time: 0h 21m 36s\n",
      "Steps: 200200 | Episode:  200/1000 | Cum.Avg.Reward: 4.567 | Epis.Avg.Reward: 6.478 | Elaps.Time: 0h 43m 11s\n",
      "Steps: 300300 | Episode:  300/1000 | Cum.Avg.Reward: 11.232 | Epis.Avg.Reward: 14.243 | Elaps.Time: 1h 04m 48s\n",
      "Steps: 400400 | Episode:  400/1000 | Cum.Avg.Reward: 18.947 | Epis.Avg.Reward: 22.665 | Elaps.Time: 1h 26m 28s\n",
      "Steps: 500500 | Episode:  500/1000 | Cum.Avg.Reward: 25.290 | Epis.Avg.Reward: 28.296 | Elaps.Time: 1h 48m 08s\n",
      "Steps: 600600 | Episode:  600/1000 | Cum.Avg.Reward: 30.859 | Epis.Avg.Reward: 34.040 | Elaps.Time: 2h 09m 50s\n",
      "Steps: 700700 | Episode:  700/1000 | Cum.Avg.Reward: 35.928 | Epis.Avg.Reward: 37.308 | Elaps.Time: 2h 31m 34s\n",
      "Steps: 800800 | Episode:  800/1000 | Cum.Avg.Reward: 37.384 | Epis.Avg.Reward: 37.806 | Elaps.Time: 2h 53m 17s\n",
      "Steps: 900900 | Episode:  900/1000 | Cum.Avg.Reward: 37.495 | Epis.Avg.Reward: 37.552 | Elaps.Time: 3h 14m 60s\n",
      "Steps: 1001000 | Episode: 1000/1000 | Cum.Avg.Reward: 37.598 | Epis.Avg.Reward: 37.282 | Elaps.Time: 3h 36m 43s\n"
     ]
    }
   ],
   "source": [
    "rewards, cum_rewards = coach.train(agent=agent, \n",
    "                                   num_episodes=num_episodes, \n",
    "                                   max_steps=total_steps,\n",
    "                                   log_interval=log_interval,\n",
    "                                   save_interval=save_interval)"
   ]
  },
  {
   "cell_type": "code",
   "execution_count": 11,
   "metadata": {},
   "outputs": [
    {
     "data": {
      "image/png": "[encoded data removed]",
      "text/plain": [
       "<Figure size 432x288 with 1 Axes>"
      ]
     },
     "metadata": {
      "needs_background": "light"
     },
     "output_type": "display_data"
    }
   ],
   "source": [
    "fig, ax = plt.subplots()\n",
    "ax.plot(np.arange(len(rewards)), np.asarray(rewards), c='lightsteelblue', linestyle=':', label='Episode Reward')\n",
    "ax.plot(np.arange(len(rewards)), np.asarray(cum_rewards), c='royalblue', label='Average 100 Cumulative Reward')\n",
    "ax.set(xlabel='Episodes', ylabel='Average Agent Reward')\n",
    "ax.legend()\n",
    "plt.show()"
   ]
  },
  {
   "cell_type": "markdown",
   "metadata": {},
   "source": [
    "### 6. Watch the trained PPO-A2C Agent"
   ]
  },
  {
   "cell_type": "code",
   "execution_count": 12,
   "metadata": {},
   "outputs": [],
   "source": [
    "agent.load(save_directory, 'PPO_Episode_1000.pth')"
   ]
  },
  {
   "cell_type": "code",
   "execution_count": 13,
   "metadata": {},
   "outputs": [
    {
     "name": "stdout",
     "output_type": "stream",
     "text": [
      "Total score (averaged over agents) for this episode: 37.724\n"
     ]
    }
   ],
   "source": [
    "steps, score = coach.watch(agent)\n",
    "\n",
    "print('Total score (averaged over agents) for this episode: {:.3f}'.format(score))"
   ]
  },
  {
   "cell_type": "markdown",
   "metadata": {},
   "source": [
    "### 7. Ideas for future work\n",
    "\n",
    "1. While the environment is able to be solved within less than 1000 episodes, the hyper-parameters haven't been tuned. Some adjustments can be done in the Settings and Parameters section.\n",
    "<br><br>\n",
    "2. Some observations could be joined together as the input of the policy. This could help the neural network learn about speed and acceleration and could help with the precision of the hand position.\n",
    "<br><br>\n",
    "3. Implementing an RNN model instead of the actual MLP as the agent's model could maybe provide faster converging results.\n",
    "<br><br>\n",
    "4. Once the policy has been trained on the multiple agents environment it would be interesting to test the agent on the single agent environment. In a real-life scenario, training a policy over multiple agents can facilitate and accelerate training, but most of the time, the deployed policy will act on a single machine.\n",
    "<br><br>\n",
    "5. The actual PPO agent doesn't really <i>understand</i> what it is doing. It only tries to maximize rewards by adjusting actions without understanding the impact of those. It would be interesting to add a loss for the next state(s?) prediction in order for the agent to understand action-reaction."
   ]
  }
 ],
 "metadata": {
  "kernelspec": {
   "display_name": "Python 3",
   "language": "python",
   "name": "python3"
  },
  "language_info": {
   "codemirror_mode": {
    "name": "ipython",
    "version": 3
   },
   "file_extension": ".py",
   "mimetype": "text/x-python",
   "name": "python",
   "nbconvert_exporter": "python",
   "pygments_lexer": "ipython3",
   "version": "3.6.7"
  }
 },
 "nbformat": 4,
 "nbformat_minor": 2
}
